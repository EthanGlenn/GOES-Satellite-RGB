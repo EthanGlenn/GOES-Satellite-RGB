{
 "cells": [
  {
   "cell_type": "code",
   "execution_count": null,
   "id": "1aaa1d00-6e8b-40db-9cd1-01dd8bfe3e0e",
   "metadata": {},
   "outputs": [],
   "source": [
    "# This code is how you download the NOAA Satellite Images. (You will need these files so that you can apply RGB to them.)\n",
    "# Make sure you have the AMS 2023 Environment installed\n",
    "# Three ### will represent something that needs changed in the code to get a different image"
   ]
  },
  {
   "cell_type": "code",
   "execution_count": null,
   "id": "ac8a3d22-cd01-4eb7-b88a-6177861aedad",
   "metadata": {},
   "outputs": [],
   "source": [
    "# Import these libraries so that the code runs smoothly\n",
    "\n",
    "import s3fs\n",
    "\n",
    "import requests\n",
    "\n",
    "import datetime\n",
    "\n",
    "import numpy as np\n",
    "\n",
    "from pathlib import Path\n",
    "\n",
    "import os"
   ]
  },
  {
   "cell_type": "code",
   "execution_count": null,
   "id": "3c124902-11a4-4fd4-84cc-be772646e102",
   "metadata": {},
   "outputs": [],
   "source": [
    "os.chdir('')    ### You need to make your file directory have a solid path EX os.chdir('/Users/cires/Documents/Research')"
   ]
  },
  {
   "cell_type": "code",
   "execution_count": null,
   "id": "654e69d8-20e5-467d-a837-61106babf147",
   "metadata": {},
   "outputs": [],
   "source": [
    "# Set up the directory path for the satellite images\n",
    "\n",
    "directory_path = Path.cwd()\n",
    "print(directory_path)"
   ]
  },
  {
   "cell_type": "code",
   "execution_count": null,
   "id": "b44f00ec-e3f2-4198-8e4e-5fa2e8835669",
   "metadata": {},
   "outputs": [],
   "source": [
    "# Activate this package\n",
    "\n",
    "fs = s3fs.S3FileSystem(anon=True)"
   ]
  },
  {
   "cell_type": "code",
   "execution_count": null,
   "id": "b1752455-6c77-45b6-8b06-cf1b4b453acc",
   "metadata": {},
   "outputs": [],
   "source": [
    "# The GOES Satellite that views all of America is GOES 16. (We will zoom in on these files later)\n",
    "\n",
    "bucket = 'noaa-goes16'\n",
    "\n",
    "products_path = bucket\n",
    "\n",
    "products = fs.ls(products_path)\n",
    "\n",
    "for product in products:\n",
    "    print(product.split('/')[-1])"
   ]
  },
  {
   "cell_type": "code",
   "execution_count": null,
   "id": "77257b2f-57ba-4f30-b623-86f02d5158c2",
   "metadata": {},
   "outputs": [],
   "source": [
    "# Change the below times to the Day, Month, and Year you would like to view\n",
    "\n",
    "year = 2021 ###\n",
    "month = 12  ###\n",
    "day = 15    ###\n",
    "\n",
    "julian_day = datetime.datetime(year, month, day).strftime('%j')\n",
    "print(julian_day)"
   ]
  },
  {
   "cell_type": "code",
   "execution_count": null,
   "id": "eb5a33c7-dae0-43bf-94a1-ac9883d2a38f",
   "metadata": {},
   "outputs": [],
   "source": [
    "# This code will download the images you need. You will need to convert hour to your time region\n",
    "# The product I have chosen views all of the United States. (You will be able to zoom into your area of intrest later)\n",
    "\n",
    "bucket = 'noaa-goes16'\n",
    "product = 'ABI-L2-MCMIPC'\n",
    "year = 2021                                       ### Change this to the proper year\n",
    "julian = julian_day  \n",
    "hour = 20  # This is 1 pm Mountain Time           ### Change this to the proper time\n",
    "\n",
    "data_path = bucket + '/' + product + '/'  + str(year) + '/' + str(julian).zfill(3) + '/' + str(hour).zfill(2)\n",
    "\n",
    "files = fs.ls(data_path)\n",
    "\n",
    "print('Total number of files:', len(files), '\\n')\n",
    "\n",
    "print('Print out the names of the first 10 and last 10 files')\n",
    "for file in files[:10]:\n",
    "    print(file.split('/')[-1])\n",
    "for file in files[-10:]:\n",
    "    print(file.split('/')[-1])"
   ]
  },
  {
   "cell_type": "code",
   "execution_count": null,
   "id": "87fdab00-4d82-4385-b75d-0e41f158486f",
   "metadata": {},
   "outputs": [],
   "source": [
    "# Select how long you want to view the images for\n",
    "# Simplified Example: observation_times 20:01 to 20:57 every 5 minutes (See below)\n",
    "\n",
    "observation_times = np.arange(2001,2057,5).astype(str) ###\n",
    "product_name = 'MCMIPC'\n",
    "for observation_time in observation_times:\n",
    "    print(observation_time)\n",
    "    matches = [file for file in files if (file.split('/')[-1].split('_')[3][8:12] == observation_time and file.split('/')[-1].split('-')[2] == product_name)]\n",
    "\n",
    "    for match in matches:\n",
    "        print(match.split('/')[-1])\n",
    "        print('Approximate file size (MB):', round((fs.size(match)/1.0E6), 2))\n",
    "    ## fs.get is the command that downloads the file\n",
    "\n",
    "    for match in matches:\n",
    "        print(match)\n",
    "        print(str(directory_path / match.split('/')[-1]))\n",
    "        fs.get(match, str(directory_path / match.split('/')[-1]))"
   ]
  },
  {
   "cell_type": "code",
   "execution_count": null,
   "id": "47e36c24-ac3f-460c-be71-d2f0cb0852f7",
   "metadata": {},
   "outputs": [],
   "source": [
    "# You should have all of the files you need\n",
    "# Now we can start working on adding RGB and enhancing your area of intrest"
   ]
  },
  {
   "cell_type": "code",
   "execution_count": null,
   "id": "f1042278-90ea-42da-a46a-866dd8dd9de9",
   "metadata": {},
   "outputs": [],
   "source": [
    "# Import these libraries:\n",
    "\n",
    "import xarray as xr\n",
    "\n",
    "import numpy as np\n",
    "\n",
    "from matplotlib import pyplot as plt\n",
    "\n",
    "from cartopy import crs as ccrs\n",
    "import cartopy.feature as cfeature\n",
    "\n",
    "import datetime\n",
    "\n",
    "from pathlib import Path\n",
    "\n",
    "import warnings\n",
    "warnings.filterwarnings('ignore')"
   ]
  },
  {
   "cell_type": "code",
   "execution_count": null,
   "id": "b586a2bd-bec8-453b-9988-a30745241456",
   "metadata": {},
   "outputs": [],
   "source": [
    "# Make sure you have the same path as above\n",
    "\n",
    "directory_path = Path.cwd()"
   ]
  },
  {
   "cell_type": "code",
   "execution_count": null,
   "id": "e27aab56-2892-4ee8-bbf1-147334ca7812",
   "metadata": {},
   "outputs": [],
   "source": [
    "# This part is kind if annoying. Enter the file you want to enhance (At the moment you have to do this step 1 at a time)\n",
    "# If someone knows how to do and eneter all of the files at once please add on\n",
    "# If I have time I will try to make it more automatic\n",
    "\n",
    "file_name = 'OR_ABI-L2-MCMIPC-M6_G16_s20213492056172_e20213492058545_c20213492059037.nc' ###\n",
    "file_id = directory_path / file_name\n",
    "\n",
    "ds = xr.open_dataset(file_id, engine='netcdf4')\n",
    "ds"
   ]
  },
  {
   "cell_type": "code",
   "execution_count": null,
   "id": "641d3577-8985-44a6-acfb-e42178bda28b",
   "metadata": {},
   "outputs": [],
   "source": [
    "# For the next two steps you need to read in metdata 1 and 13\n",
    "\n",
    "ds.CMI_C01.attrs"
   ]
  },
  {
   "cell_type": "code",
   "execution_count": null,
   "id": "5141c1d4-8dc8-4794-9a20-cd5d1c422733",
   "metadata": {},
   "outputs": [],
   "source": [
    "ds.CMI_C13.attrs"
   ]
  },
  {
   "cell_type": "code",
   "execution_count": null,
   "id": "44813633-bb7e-43e5-8044-880bb42b2542",
   "metadata": {},
   "outputs": [],
   "source": [
    "# Make sure the max and min lie between 0 and 1\n",
    "\n",
    "print(ds['CMI_C01'].values.min(), ds['CMI_C01'].values.max())\n",
    "print(ds['CMI_C02'].values.min(), ds['CMI_C02'].values.max())\n",
    "print(ds['CMI_C03'].values.min(), ds['CMI_C03'].values.max())"
   ]
  },
  {
   "cell_type": "code",
   "execution_count": null,
   "id": "3140c80f-ab22-4d5a-a1ad-6c31bf15a998",
   "metadata": {},
   "outputs": [],
   "source": [
    "# Check the shape of your file\n",
    "\n",
    "ds['CMI_C01'].shape, ds['CMI_C02'].shape, ds['CMI_C03'].shape"
   ]
  },
  {
   "cell_type": "code",
   "execution_count": null,
   "id": "3ac2af47-c9cc-4e24-848b-0e9f350417d9",
   "metadata": {},
   "outputs": [],
   "source": [
    "# These next steps add visible color to your image\n",
    "ch1 = ds.CMI_C01\n",
    "ch2 = ds.CMI_C02\n",
    "ch3 = ds.CMI_C03"
   ]
  },
  {
   "cell_type": "code",
   "execution_count": null,
   "id": "ac4aa159-7c67-4f5b-9a69-1989422a3085",
   "metadata": {},
   "outputs": [],
   "source": [
    "green = 0.45*ch2 + 0.1*ch3 + 0.45*ch1"
   ]
  },
  {
   "cell_type": "code",
   "execution_count": null,
   "id": "b4562afa-0dc7-4d37-8cc6-5555df22ee0b",
   "metadata": {},
   "outputs": [],
   "source": [
    "# Make sure this green value is in range\n",
    "\n",
    "green.values.min(), green.values.max()"
   ]
  },
  {
   "cell_type": "code",
   "execution_count": null,
   "id": "9290080e-14bc-4d55-af4e-c7ddf682b886",
   "metadata": {},
   "outputs": [],
   "source": [
    "tc_RGB = np.dstack([ch2, green, ch1])\n",
    "print(tc_RGB.shape)"
   ]
  },
  {
   "cell_type": "code",
   "execution_count": null,
   "id": "ea7af69f-d2e7-4e6e-bddd-c98dc45bb505",
   "metadata": {},
   "outputs": [],
   "source": [
    "# gamma makes the image brighter so that you can see it\n",
    "\n",
    "gamma = 3\n",
    "tc_RGB_gamma = np.power(tc_RGB, 1/gamma)\n",
    "\n",
    "plt.figure()\n",
    "plt.imshow(tc_RGB_gamma)\n",
    "plt.show()"
   ]
  },
  {
   "cell_type": "code",
   "execution_count": null,
   "id": "e194bd26-f93b-4416-b2ee-45fb9f41e5c0",
   "metadata": {},
   "outputs": [],
   "source": [
    "# Now you can add RGB to your image"
   ]
  },
  {
   "cell_type": "code",
   "execution_count": null,
   "id": "5427e798-4779-491f-b31d-6ed7c3adceb1",
   "metadata": {},
   "outputs": [],
   "source": [
    "# Define channels\n",
    "ch8 = ds.CMI_C08\n",
    "ch10 = ds.CMI_C10\n",
    "ch12 = ds.CMI_C12\n",
    "ch13 = ds.CMI_C13"
   ]
  },
  {
   "cell_type": "code",
   "execution_count": null,
   "id": "0a958563-79fc-4497-a5d8-201d8f07d359",
   "metadata": {},
   "outputs": [],
   "source": [
    "# Red\n",
    "img = ds.CMI_C08 - ds.CMI_C10\n",
    "\n",
    "lower_val = -26.2\n",
    "upper_val = 0.6\n",
    "\n",
    "img_clip = np.clip(img, lower_val, upper_val)\n",
    "normalized_red = (img_clip-lower_val)/(upper_val-lower_val)"
   ]
  },
  {
   "cell_type": "code",
   "execution_count": null,
   "id": "1e34967d-5b89-4eae-ab14-5cecb29b8756",
   "metadata": {},
   "outputs": [],
   "source": [
    "# Green\n",
    "img = ds.CMI_C12 - ds.CMI_C13\n",
    "\n",
    "lower_val = -43.2\n",
    "upper_val = 6.7\n",
    "\n",
    "img_clip = np.clip(img, lower_val, upper_val)\n",
    "normalized_green = (img_clip-lower_val)/(upper_val-lower_val)"
   ]
  },
  {
   "cell_type": "code",
   "execution_count": null,
   "id": "9f5e2b39-bd96-4792-8f98-173890acef5e",
   "metadata": {},
   "outputs": [],
   "source": [
    "# Blue\n",
    "img = ds.CMI_C08\n",
    "\n",
    "lower_val = 208.5\n",
    "upper_val = 244.0\n",
    "\n",
    "img_clip = np.clip(img, lower_val, upper_val)\n",
    "normalized_blue = (img_clip-lower_val)/(upper_val-lower_val)\n",
    "normalized_blue_inverted = 1-normalized_blue"
   ]
  },
  {
   "cell_type": "code",
   "execution_count": null,
   "id": "a26da46a-52c4-41a9-a78f-f60ce85e1893",
   "metadata": {},
   "outputs": [],
   "source": [
    "airmass_RGB = np.dstack([normalized_red, normalized_green, normalized_blue_inverted])"
   ]
  },
  {
   "cell_type": "code",
   "execution_count": null,
   "id": "980b203e-fa02-4d51-8099-852add9d2965",
   "metadata": {},
   "outputs": [],
   "source": [
    "plt.figure()\n",
    "plt.imshow(airmass_RGB)\n",
    "plt.show()"
   ]
  },
  {
   "cell_type": "code",
   "execution_count": null,
   "id": "b172c79a-7dc6-4905-8f4c-e6446918fb12",
   "metadata": {},
   "outputs": [],
   "source": [
    "# It is pretty hard to see America now. Let's fix that with some more code"
   ]
  },
  {
   "cell_type": "code",
   "execution_count": null,
   "id": "0136611f-6887-4078-846d-b4dde0458024",
   "metadata": {},
   "outputs": [],
   "source": [
    "# This will help us find our latitude\n",
    "\n",
    "proj_var = ds.goes_imager_projection\n",
    "\n",
    "sat_height = proj_var.perspective_point_height\n",
    "semi_major = proj_var.semi_major_axis\n",
    "semi_minor = proj_var.semi_minor_axis\n",
    "\n",
    "globe = ccrs.Globe(semimajor_axis=semi_major, semiminor_axis=semi_minor)"
   ]
  },
  {
   "cell_type": "code",
   "execution_count": null,
   "id": "c409b0ce-3b42-4b1a-a161-226af52645e6",
   "metadata": {},
   "outputs": [],
   "source": [
    "# Now run this to find your latitude\n",
    "\n",
    "central_lon = proj_var.longitude_of_projection_origin\n",
    "print(central_lon)\n",
    "crs = ccrs.Geostationary(central_longitude=central_lon,satellite_height=sat_height, globe=globe)"
   ]
  },
  {
   "cell_type": "code",
   "execution_count": null,
   "id": "c4e2c7b2-ae4a-482d-8509-7c73256c16a3",
   "metadata": {},
   "outputs": [],
   "source": [
    "# Now we can add boundries to our image\n",
    "\n",
    "X = ds['x']*sat_height\n",
    "Y = ds['y']*sat_height\n",
    "imgExtent = (X.min(), X.max(), Y.min(), Y.max())"
   ]
  },
  {
   "cell_type": "code",
   "execution_count": null,
   "id": "471d3f3b-b48b-4703-85e9-399a16cbd41c",
   "metadata": {},
   "outputs": [],
   "source": [
    "# Make sure it worked\n",
    "\n",
    "imgExtent"
   ]
  },
  {
   "cell_type": "code",
   "execution_count": null,
   "id": "1eafe7c5-182b-4436-80c9-ef8976cbf27d",
   "metadata": {},
   "outputs": [],
   "source": [
    "# If you used the above code correctly you should get an enhanced image\n",
    "\n",
    "proj_to = crs\n",
    "\n",
    "fig = plt.figure()\n",
    "ax = plt.subplot(projection=proj_to)\n",
    "\n",
    "ax.coastlines('10m', linewidth=2)\n",
    "ax.imshow(airmass_RGB, origin='upper', extent=imgExtent, transform=crs)\n",
    "\n",
    "ax.add_feature(cfeature.COASTLINE)\n",
    "ax.add_feature(cfeature.BORDERS)\n",
    "ax.add_feature(cfeature.STATES)\n",
    "\n",
    "plt.show()"
   ]
  },
  {
   "cell_type": "code",
   "execution_count": null,
   "id": "f2e9b1ce-3aef-4f2e-9e88-4d3a340e1d74",
   "metadata": {},
   "outputs": [],
   "source": [
    "# It is hard to see the particular weather event you are looking for from space\n",
    "# These last steps will zoom into your area of intrest and add what time this particular weather event occured"
   ]
  },
  {
   "cell_type": "code",
   "execution_count": null,
   "id": "a39f7546-a15a-49d6-ad73-1d38d4f10d53",
   "metadata": {},
   "outputs": [],
   "source": [
    "ds.attrs"
   ]
  },
  {
   "cell_type": "code",
   "execution_count": null,
   "id": "a8510638-19cb-4e46-89df-ee594ae7cd1c",
   "metadata": {},
   "outputs": [],
   "source": [
    "# This gives you time and date for your image\n",
    "\n",
    "platform = ds.platform_ID + ' ' + ds.title[0:3]\n",
    "\n",
    "dtinfo_s = ds.time_coverage_start[0:16].replace('T',' ')\n",
    "dtinfo_e = ds.time_coverage_end[0:16].replace('T',' ')\n",
    "\n",
    "dt_scan = datetime.datetime.strptime(dtinfo_s, '%Y-%m-%d %H:%M')\n",
    "date_s = dt_scan.strftime('%d %b %Y')\n",
    "print(date_s)\n",
    "time_s = dt_scan.strftime('%H:%M')\n",
    "print(time_s)\n",
    "\n",
    "composite = (f'Airmass RGB Composite {date_s}')\n",
    "\n",
    "plot_title = platform + ' ' + composite + ' ' + time_s"
   ]
  },
  {
   "cell_type": "code",
   "execution_count": null,
   "id": "e1aeb179-1bc4-4089-a5c2-e63de05d77c1",
   "metadata": {},
   "outputs": [],
   "source": [
    "# This is what the title will be on your enhanced image\n",
    "\n",
    "plot_title"
   ]
  },
  {
   "cell_type": "code",
   "execution_count": null,
   "id": "ac48b889-8769-4715-8211-3e04865bfb9f",
   "metadata": {},
   "outputs": [],
   "source": [
    "# This last step zooms into your area of intrest and downloads your enhanced image\n",
    "# It is kind of a guessing game until you have your area of intrest\n",
    "# The particular coordinates below zoom into CO, WY, NE, KA, SD, and the edges of border states\n",
    "\n",
    "proj_to = crs\n",
    "\n",
    "fig = plt.figure(figsize=(5,5))\n",
    "ax = plt.subplot(projection=proj_to)\n",
    "ax.set_xlim((-2600000.5, -1481770.0))  # Change this to zoom in vertically   ###\n",
    "ax.set_ylim((3584175.875, 4288198.0))  # Change this to zoom in horizontally ###\n",
    "\n",
    "ax.coastlines('10m', linewidth=2)\n",
    "ax.matshow(airmass_RGB, origin='upper', extent=imgExtent, transform=crs)\n",
    "\n",
    "ax.add_feature(cfeature.COASTLINE)\n",
    "ax.add_feature(cfeature.BORDERS)\n",
    "ax.add_feature(cfeature.STATES)\n",
    "\n",
    "plt.title(plot_title, size=8)\n",
    "\n",
    "plt.show()\n",
    "\n",
    "saved_file_name=file_name+'.png'\n",
    "fig.savefig(saved_file_name, facecolor='w', dpi=300, bbox_inches='tight')"
   ]
  },
  {
   "cell_type": "code",
   "execution_count": null,
   "id": "a9f04a18-5f34-4f18-9adf-cee6566f7fe2",
   "metadata": {},
   "outputs": [],
   "source": [
    "# Now that you have your image you can go back up to cell 12 and change your current file to the next file you need\n",
    "# Repeat until you have all the files you need so that you can make a gif image"
   ]
  },
  {
   "cell_type": "code",
   "execution_count": null,
   "id": "272fd80e-4fb6-488e-bd5c-bccc0aa0da2b",
   "metadata": {},
   "outputs": [],
   "source": [
    "# How to make a gif image"
   ]
  },
  {
   "cell_type": "code",
   "execution_count": null,
   "id": "c30f89c4-f3d0-4e0a-8d3d-6c64c39cbf72",
   "metadata": {},
   "outputs": [],
   "source": [
    "pip install pillow"
   ]
  },
  {
   "cell_type": "code",
   "execution_count": null,
   "id": "43e008ba-126d-4dbe-84c8-931af1b8ca23",
   "metadata": {},
   "outputs": [],
   "source": [
    "# Copy the name of your image and put it below (You may have to add some more lines of code. Just copy and paste.)\n",
    "from PIL import Image\n",
    "\n",
    "frames = []\n",
    "\n",
    "frames.append(Image.open(\".png\"))\n",
    "frames.append(Image.open(\".png\"))\n",
    "frames.append(Image.open(\".png\"))\n",
    "\n",
    "frames[0].save(\"NAME_OF_DUST_STORM.gif\", save_all=True, append_images=frames[1:], optimize=False, duration=200, loop=0) ### Change the name so it is relevant"
   ]
  },
  {
   "cell_type": "code",
   "execution_count": null,
   "id": "47e594f2-dd54-4ad2-b351-82b014481d3d",
   "metadata": {},
   "outputs": [],
   "source": [
    "# Congrats your gif image should have been made!"
   ]
  }
 ],
 "metadata": {
  "kernelspec": {
   "display_name": "AMS 2023",
   "language": "python",
   "name": "ams2023"
  },
  "language_info": {
   "codemirror_mode": {
    "name": "ipython",
    "version": 3
   },
   "file_extension": ".py",
   "mimetype": "text/x-python",
   "name": "python",
   "nbconvert_exporter": "python",
   "pygments_lexer": "ipython3",
   "version": "3.9.16"
  }
 },
 "nbformat": 4,
 "nbformat_minor": 5
}
