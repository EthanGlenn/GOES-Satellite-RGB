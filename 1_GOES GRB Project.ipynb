{
 "cells": [
  {
   "cell_type": "code",
   "execution_count": null,
   "id": "98209eac-531b-454c-8882-e3e628b94d14",
   "metadata": {},
   "outputs": [],
   "source": [
    "# This code is how you download the NOAA Satellite Images. (You will need these files so that you can apply RGB to them.)\n",
    "# Make sure you have the AMS 2023 Environment installed\n",
    "# I use the dust storm of Decmeber 15 2021 as an example\n",
    "# Three ### will represent something that needs changed in the code to get a different image"
   ]
  },
  {
   "cell_type": "code",
   "execution_count": null,
   "id": "9688f92c-f732-4f02-a5fd-87f151cd288c",
   "metadata": {},
   "outputs": [],
   "source": [
    "# Import these libraries so that the code runs smoothly\n",
    "\n",
    "import s3fs\n",
    "\n",
    "import requests\n",
    "\n",
    "import datetime\n",
    "\n",
    "import numpy as np\n",
    "\n",
    "from pathlib import Path"
   ]
  },
  {
   "cell_type": "code",
   "execution_count": null,
   "id": "7be5811c-a4f2-4886-abbc-c6808f4cef66",
   "metadata": {},
   "outputs": [],
   "source": [
    "# Update your file directory\n",
    "\n",
    "import os\n",
    "os.chdir('/Users/cires/Documents/Research/RECCS_2023_Ethan/AMS_Short_Course_2023_Python_Files/Other_Dust_Storms') # This is an example you will need to change your directory so that it is relevant to you"
   ]
  },
  {
   "cell_type": "code",
   "execution_count": null,
   "id": "03aa0f55-41d8-404f-9064-267b37f027b3",
   "metadata": {},
   "outputs": [],
   "source": [
    "# Ensure that your file directory path is correct for the satellite images\n",
    "\n",
    "directory_path = Path.cwd()\n",
    "print(directory_path)"
   ]
  },
  {
   "cell_type": "code",
   "execution_count": null,
   "id": "accb980c-1f8b-4c4c-97cf-298abe42435c",
   "metadata": {},
   "outputs": [],
   "source": [
    "# Activate this package\n",
    "\n",
    "fs = s3fs.S3FileSystem(anon=True)"
   ]
  },
  {
   "cell_type": "code",
   "execution_count": null,
   "id": "c1df16bf-8179-4e22-a5d1-bcd284865f1d",
   "metadata": {},
   "outputs": [],
   "source": [
    "# The GOES Satellite that views all of America is GOES 16. (We will zoom in on these files later)\n",
    "\n",
    "bucket = 'noaa-goes16'\n",
    "\n",
    "products_path = bucket\n",
    "\n",
    "products = fs.ls(products_path)\n",
    "\n",
    "for product in products:\n",
    "    print(product.split('/')[-1])"
   ]
  },
  {
   "cell_type": "code",
   "execution_count": null,
   "id": "fbc8fa2c-09c3-47db-8a34-9065efd50022",
   "metadata": {},
   "outputs": [],
   "source": [
    "# Change the below times to the Day, Month, and Year you would like to view\n",
    "\n",
    "year = 2021 ###\n",
    "month = 12  ###\n",
    "day = 15    ###\n",
    "\n",
    "julian_day = datetime.datetime(year, month, day).strftime('%j')\n",
    "print(julian_day)"
   ]
  },
  {
   "cell_type": "code",
   "execution_count": null,
   "id": "3d63ad6b-323c-42ce-84fd-2edd705616cb",
   "metadata": {},
   "outputs": [],
   "source": [
    "# The hour is in UTC be sure to convert this to the reigion you are in\n",
    "# This code will download the images you need. You will need to convert hour to your time region\n",
    "# The product I have chosen views all of the United States. (You will be able to zoom into your area of intrest later)\n",
    "\n",
    "bucket = 'noaa-goes16'\n",
    "product = 'ABI-L2-MCMIPC'\n",
    "year = 2021                                      ###\n",
    "julian = julian_day\n",
    "hour = 20                                        ###\n",
    "\n",
    "data_path = bucket + '/' + product + '/'  + str(year) + '/' + str(julian).zfill(3) + '/' + str(hour).zfill(2)\n",
    "\n",
    "files = fs.ls(data_path)\n",
    "\n",
    "print('Total number of files:', len(files), '\\n')\n",
    "\n",
    "print('Print out the names of the first 10 and last 10 files')\n",
    "for file in files[:10]:\n",
    "    print(file.split('/')[-1])\n",
    "for file in files[-10:]:\n",
    "    print(file.split('/')[-1])"
   ]
  },
  {
   "cell_type": "code",
   "execution_count": null,
   "id": "fe26d277-4bc1-44ba-a5b3-136e21255bd4",
   "metadata": {},
   "outputs": [],
   "source": [
    "# Select how long you want to view the images for\n",
    "# Simplified Example: observation_times 20:01 to 20:57 every 5 minutes (See below)\n",
    "\n",
    "observation_times = np.arange(2001,2057,5).astype(str) ###\n",
    "product_name = 'MCMIPC'\n",
    "for observation_time in observation_times:\n",
    "    print(observation_time)\n",
    "    matches = [file for file in files if (file.split('/')[-1].split('_')[3][8:12] == observation_time and file.split('/')[-1].split('-')[2] == product_name)]\n",
    "\n",
    "    for match in matches:\n",
    "        print(match.split('/')[-1])\n",
    "        print('Approximate file size (MB):', round((fs.size(match)/1.0E6), 2))\n",
    "    ## fs.get is the command that downloads the file\n",
    "\n",
    "    for match in matches:\n",
    "        print(match)\n",
    "        print(str(directory_path / match.split('/')[-1]))\n",
    "        fs.get(match, str(directory_path / match.split('/')[-1]))"
   ]
  },
  {
   "cell_type": "code",
   "execution_count": null,
   "id": "baf74df3-cf85-456f-862e-f8e05caee780",
   "metadata": {},
   "outputs": [],
   "source": [
    "# It will take awhile to generate all of the files you need\n",
    "# You should have all of the files you need\n",
    "# Now we can start working on adding RGB and enhancing your area of intrest"
   ]
  },
  {
   "cell_type": "code",
   "execution_count": null,
   "id": "4b0fc78d",
   "metadata": {},
   "outputs": [],
   "source": [
    "# Import these libraries:\n",
    "\n",
    "import xarray as xr\n",
    "\n",
    "import numpy as np\n",
    "\n",
    "from matplotlib import pyplot as plt\n",
    "\n",
    "from cartopy import crs as ccrs\n",
    "import cartopy.feature as cfeature\n",
    "\n",
    "import datetime\n",
    "\n",
    "from pathlib import Path\n",
    "\n",
    "import warnings\n",
    "warnings.filterwarnings('ignore')"
   ]
  },
  {
   "cell_type": "code",
   "execution_count": null,
   "id": "01063333",
   "metadata": {},
   "outputs": [],
   "source": [
    "# Make sure you have the same path as above\n",
    "\n",
    "directory_path = Path.cwd()"
   ]
  },
  {
   "cell_type": "code",
   "execution_count": null,
   "id": "0fda2e3c",
   "metadata": {},
   "outputs": [],
   "source": [
    "# This part is kind if annoying. Enter the file you want to enhance (At the moment you have to do this step 1 at a time)\n",
    "# If someone knows how to do and eneter all of the files at once please add on\n",
    "# If I have time I will try to make it more automatic\n",
    "\n",
    "file_name = '' ###\n",
    "\n",
    "file_id = directory_path / file_name\n",
    "\n",
    "ds = xr.open_dataset(file_id, engine='netcdf4')\n",
    "ds"
   ]
  },
  {
   "cell_type": "code",
   "execution_count": null,
   "id": "73d29eaf",
   "metadata": {},
   "outputs": [],
   "source": [
    "# For the next two steps you need to read in metdata 1 and 13\n",
    "\n",
    "ds.CMI_C01.attrs"
   ]
  },
  {
   "cell_type": "code",
   "execution_count": null,
   "id": "6f6f4f8e",
   "metadata": {},
   "outputs": [],
   "source": [
    "ds.CMI_C13.attrs"
   ]
  },
  {
   "cell_type": "code",
   "execution_count": null,
   "id": "627ba4c8",
   "metadata": {},
   "outputs": [],
   "source": [
    "# Lets start by calibrating the RGB for your image\n",
    "# top left | top right | bottom left | bottom right\n",
    "\n",
    "red   = np.array( [ [ 1.0, 1.0 ], [ 0.0, 0.0] ] )\n",
    "green = np.array( [ [ 0.0, 1.0 ], [ 0.0, 1.0] ] )\n",
    "blue  = np.array( [ [ 0.0, 0.0 ], [ 1.0, 1.0] ] )\n",
    "\n",
    "rgb = np.dstack([red, green, blue])\n",
    "\n",
    "print(rgb.shape)"
   ]
  },
  {
   "cell_type": "code",
   "execution_count": null,
   "id": "c68f6171",
   "metadata": {},
   "outputs": [],
   "source": [
    "# Here is an example RGB\n",
    "\n",
    "plt.figure()\n",
    "plt.imshow(rgb)\n",
    "plt.show()"
   ]
  },
  {
   "cell_type": "code",
   "execution_count": null,
   "id": "a233c638",
   "metadata": {},
   "outputs": [],
   "source": [
    "# Ensure that are of your values are between 1 and 0\n",
    "\n",
    "print(ds['CMI_C01'].values.min(), ds['CMI_C01'].values.max())\n",
    "print(ds['CMI_C02'].values.min(), ds['CMI_C02'].values.max())\n",
    "print(ds['CMI_C03'].values.min(), ds['CMI_C03'].values.max())"
   ]
  },
  {
   "cell_type": "code",
   "execution_count": null,
   "id": "161de254",
   "metadata": {},
   "outputs": [],
   "source": [
    "# Check the shape of your file\n",
    "\n",
    "ds['CMI_C01'].shape, ds['CMI_C02'].shape, ds['CMI_C03'].shape"
   ]
  },
  {
   "cell_type": "code",
   "execution_count": null,
   "id": "aa5587e9",
   "metadata": {},
   "outputs": [],
   "source": [
    "# If you need to change the shape of your file do it here\n",
    "\n",
    "ch1 = ds['CMI_C01']\n",
    "ch1_resize = ch1[::2,::2]\n",
    "ch1.shape, ch1_resize.shape"
   ]
  },
  {
   "cell_type": "code",
   "execution_count": null,
   "id": "f56bcafe",
   "metadata": {},
   "outputs": [],
   "source": [
    "# Here is your current shape\n",
    "\n",
    "ch1_coarsen = ch1.coarsen(x=2, y=2).mean()\n",
    "ch1_coarsen.shape"
   ]
  },
  {
   "cell_type": "code",
   "execution_count": null,
   "id": "655f8c85",
   "metadata": {},
   "outputs": [],
   "source": [
    "# Ensure these data arrays are in your dataset\n",
    "\n",
    "ch1 = ds.CMI_C01\n",
    "ch2 = ds.CMI_C02\n",
    "ch3 = ds.CMI_C03"
   ]
  },
  {
   "cell_type": "code",
   "execution_count": null,
   "id": "13f1ca54",
   "metadata": {},
   "outputs": [],
   "source": [
    "# The next 3 steps make green for your RGB image\n",
    "\n",
    "green = 0.45*ch2 + 0.1*ch3 + 0.45*ch1"
   ]
  },
  {
   "cell_type": "code",
   "execution_count": null,
   "id": "256bb670",
   "metadata": {},
   "outputs": [],
   "source": [
    "green.values.min(), green.values.max()"
   ]
  },
  {
   "cell_type": "code",
   "execution_count": null,
   "id": "ecfbab17",
   "metadata": {},
   "outputs": [],
   "source": [
    "tc_RGB = np.dstack([ch2, green, ch1])\n",
    "print(tc_RGB.shape)"
   ]
  },
  {
   "cell_type": "code",
   "execution_count": null,
   "id": "700d4c82",
   "metadata": {},
   "outputs": [],
   "source": [
    "# Here is what your image looks like with minimal RGB\n",
    "\n",
    "plt.figure()\n",
    "plt.imshow(tc_RGB)\n",
    "plt.show()"
   ]
  },
  {
   "cell_type": "code",
   "execution_count": null,
   "id": "e9e49b30",
   "metadata": {},
   "outputs": [],
   "source": [
    "# This code helps with gamma luminance\n",
    "\n",
    "gamma = 2.5\n",
    "tc_RGB_gamma = np.power(tc_RGB, 1/gamma)\n",
    "\n",
    "plt.figure()\n",
    "plt.imshow(tc_RGB_gamma)\n",
    "plt.show()"
   ]
  },
  {
   "cell_type": "code",
   "execution_count": null,
   "id": "1bb96043",
   "metadata": {},
   "outputs": [],
   "source": [
    "# In order to see dust you will need to extract these channels\n",
    "\n",
    "ch11 = ds.CMI_C11\n",
    "ch13 = ds.CMI_C13\n",
    "ch14 = ds.CMI_C14\n",
    "ch15 = ds.CMI_C15"
   ]
  },
  {
   "cell_type": "code",
   "execution_count": null,
   "id": "231b31c2",
   "metadata": {},
   "outputs": [],
   "source": [
    "# To make red appear pink you must subtract these channels\n",
    "\n",
    "img = ch15-ch13\n",
    "print(np.min(img.values))\n",
    "print(np.max(img.values))"
   ]
  },
  {
   "cell_type": "code",
   "execution_count": null,
   "id": "4e78a403",
   "metadata": {},
   "outputs": [],
   "source": [
    "# Now normalize the red layers\n",
    "\n",
    "lower_val = -6.7\n",
    "upper_val = 2.6\n",
    "\n",
    "# np.clip -- use it to set all data above 2.6 to 1.0 and all data below -6.7 to 0:\n",
    "img_clip = np.clip(img, lower_val, upper_val)\n",
    "print(np.min(img_clip.values))\n",
    "print(np.max(img_clip.values))\n",
    "\n",
    "# Normalizes the clipped data\n",
    "normalized_red = (img_clip-lower_val)/(upper_val-lower_val)"
   ]
  },
  {
   "cell_type": "code",
   "execution_count": null,
   "id": "32c90c20",
   "metadata": {},
   "outputs": [],
   "source": [
    "# Ensure your RGB values are in range\n",
    "\n",
    "normalized_red.values.min(), normalized_red.values.max()"
   ]
  },
  {
   "cell_type": "code",
   "execution_count": null,
   "id": "dd27c2d8",
   "metadata": {},
   "outputs": [],
   "source": [
    "# Normalize the green layers\n",
    "\n",
    "img = ch14-ch11\n",
    "\n",
    "lower_val = -0.5\n",
    "upper_val = 20.0\n",
    "\n",
    "img_clip = np.clip(img, lower_val, upper_val)\n",
    "normalized_green = (img_clip-lower_val)/(upper_val-lower_val)"
   ]
  },
  {
   "cell_type": "code",
   "execution_count": null,
   "id": "e4ab7bc9",
   "metadata": {},
   "outputs": [],
   "source": [
    "# Gamma corrections for the green layer\n",
    "\n",
    "gamma = 2.5\n",
    "normalized_green_gamma = np.power(normalized_green, 1/gamma)"
   ]
  },
  {
   "cell_type": "code",
   "execution_count": null,
   "id": "a9125a28",
   "metadata": {},
   "outputs": [],
   "source": [
    "# Normalize the blue layer\n",
    "\n",
    "img = ch13\n",
    "\n",
    "lower_val = 261.2\n",
    "upper_val = 288.7\n",
    "\n",
    "img_clip = np.clip(img, lower_val, upper_val)\n",
    "normalized_blue = (img_clip-lower_val)/(upper_val-lower_val)"
   ]
  },
  {
   "cell_type": "code",
   "execution_count": null,
   "id": "1e831106",
   "metadata": {},
   "outputs": [],
   "source": [
    "# Stack the Red, Blue and Green layers\n",
    "\n",
    "dust_RGB = np.dstack([normalized_red, normalized_green_gamma, normalized_blue])"
   ]
  },
  {
   "cell_type": "code",
   "execution_count": null,
   "id": "f16eae8b",
   "metadata": {},
   "outputs": [],
   "source": [
    "# Lets see what the image looks like\n",
    "\n",
    "plt.figure()\n",
    "plt.imshow(dust_RGB)\n",
    "plt.show()"
   ]
  },
  {
   "cell_type": "code",
   "execution_count": null,
   "id": "e3966d5b",
   "metadata": {},
   "outputs": [],
   "source": [
    "# Define channels\n",
    "ch8 = ds.CMI_C08\n",
    "ch10 = ds.CMI_C10\n",
    "ch12 = ds.CMI_C12\n",
    "ch13 = ds.CMI_C13"
   ]
  },
  {
   "cell_type": "code",
   "execution_count": null,
   "id": "73152736",
   "metadata": {},
   "outputs": [],
   "source": [
    "# Red\n",
    "img = ds.CMI_C08 - ds.CMI_C10\n",
    "\n",
    "lower_val = -26.2\n",
    "upper_val = 0.6\n",
    "\n",
    "img_clip = np.clip(img, lower_val, upper_val)\n",
    "normalized_red = (img_clip-lower_val)/(upper_val-lower_val)"
   ]
  },
  {
   "cell_type": "code",
   "execution_count": null,
   "id": "62d5997a",
   "metadata": {},
   "outputs": [],
   "source": [
    "# Green\n",
    "img = ds.CMI_C12 - ds.CMI_C13\n",
    "\n",
    "lower_val = -43.2\n",
    "upper_val = 6.7\n",
    "\n",
    "img_clip = np.clip(img, lower_val, upper_val)\n",
    "normalized_green = (img_clip-lower_val)/(upper_val-lower_val)"
   ]
  },
  {
   "cell_type": "code",
   "execution_count": null,
   "id": "df737ea3",
   "metadata": {},
   "outputs": [],
   "source": [
    "# Blue\n",
    "img = ds.CMI_C08\n",
    "\n",
    "lower_val = 208.5\n",
    "upper_val = 244.0\n",
    "\n",
    "img_clip = np.clip(img, lower_val, upper_val)\n",
    "normalized_blue = (img_clip-lower_val)/(upper_val-lower_val)\n",
    "normalized_blue_inverted = 1-normalized_blue"
   ]
  },
  {
   "cell_type": "code",
   "execution_count": null,
   "id": "3fdcb543",
   "metadata": {},
   "outputs": [],
   "source": [
    "airmass_RGB = np.dstack([normalized_red, normalized_green, normalized_blue_inverted])"
   ]
  },
  {
   "cell_type": "code",
   "execution_count": null,
   "id": "f0376fea",
   "metadata": {},
   "outputs": [],
   "source": [
    "plt.figure()\n",
    "plt.imshow(airmass_RGB)\n",
    "plt.show()"
   ]
  },
  {
   "cell_type": "code",
   "execution_count": null,
   "id": "43a622be",
   "metadata": {},
   "outputs": [],
   "source": [
    "# Lets touch up that image\n",
    "\n",
    "proj_var = ds.goes_imager_projection\n",
    "\n",
    "sat_height = proj_var.perspective_point_height\n",
    "semi_major = proj_var.semi_major_axis\n",
    "semi_minor = proj_var.semi_minor_axis\n",
    "\n",
    "globe = ccrs.Globe(semimajor_axis=semi_major, semiminor_axis=semi_minor)"
   ]
  },
  {
   "cell_type": "code",
   "execution_count": null,
   "id": "485c12e2",
   "metadata": {},
   "outputs": [],
   "source": [
    "# Define the native geostationary map projection\n",
    "\n",
    "central_lon = proj_var.longitude_of_projection_origin\n",
    "print(central_lon)\n",
    "crs = ccrs.Geostationary(central_longitude=central_lon,satellite_height=sat_height, globe=globe)"
   ]
  },
  {
   "cell_type": "code",
   "execution_count": null,
   "id": "bbec047c",
   "metadata": {},
   "outputs": [],
   "source": [
    "# Define the extent of the image\n",
    "\n",
    "X = ds['x']*sat_height\n",
    "Y = ds['y']*sat_height\n",
    "imgExtent = (X.min(), X.max(), Y.min(), Y.max())"
   ]
  },
  {
   "cell_type": "code",
   "execution_count": null,
   "id": "82abf55b",
   "metadata": {},
   "outputs": [],
   "source": [
    "# Lets add some features to make the map easier to naviagte\n",
    "\n",
    "proj_to = crs\n",
    "\n",
    "fig = plt.figure()\n",
    "ax = plt.subplot(projection=proj_to)\n",
    "\n",
    "ax.coastlines('10m', linewidth=2)\n",
    "ax.imshow(dust_RGB, origin='upper', extent=imgExtent, transform=crs)\n",
    "\n",
    "ax.add_feature(cfeature.COASTLINE)\n",
    "ax.add_feature(cfeature.BORDERS)\n",
    "ax.add_feature(cfeature.STATES)\n",
    "\n",
    "plt.show()"
   ]
  },
  {
   "cell_type": "code",
   "execution_count": null,
   "id": "025cd0b1",
   "metadata": {},
   "outputs": [],
   "source": [
    "# Lets add a title to your map\n",
    "\n",
    "ds.attrs"
   ]
  },
  {
   "cell_type": "code",
   "execution_count": null,
   "id": "494b11da",
   "metadata": {},
   "outputs": [],
   "source": [
    "#Lets add the time and date that this image was taken\n",
    "\n",
    "platform = ds.platform_ID + ' ' + ds.title[0:3]\n",
    "\n",
    "dtinfo_s = ds.time_coverage_start[0:16].replace('T',' ')\n",
    "dtinfo_e = ds.time_coverage_end[0:16].replace('T',' ')\n",
    "\n",
    "dt_scan = datetime.datetime.strptime(dtinfo_s, '%Y-%m-%d %H:%M')\n",
    "date_s = dt_scan.strftime('%d %b %Y')\n",
    "print(date_s)\n",
    "time_s = dt_scan.strftime('%H:%M')\n",
    "print(time_s)\n",
    "\n",
    "composite = (f'Dust RGB Composite {date_s}')\n",
    "formula = r'$Red = BT_{12.3\\mu m}-BT_{10.3\\mu m} \\ \\ \\ Green = BT_{11.2\\mu m}-BT_{8.4\\mu m} \\ \\ \\ Blue = BT_{10.3\\mu m}$'\n",
    "\n",
    "plot_title = platform + ' ' + composite + ' ' + time_s"
   ]
  },
  {
   "cell_type": "code",
   "execution_count": null,
   "id": "35551876",
   "metadata": {},
   "outputs": [],
   "source": [
    "#Here is what your title will look like\n",
    "plot_title"
   ]
  },
  {
   "cell_type": "code",
   "execution_count": null,
   "id": "54d6c270",
   "metadata": {},
   "outputs": [],
   "source": [
    "# This last step zooms into your area of intrest and downloads your enhanced image\n",
    "# It is kind of a guessing game until you have your area of intrest\n",
    "\n",
    "proj_to = crs\n",
    "\n",
    "fig = plt.figure(figsize=(5,5))\n",
    "ax = plt.subplot(projection=proj_to)\n",
    "ax.set_xlim((-2600000.5, -1481770.0))  # Change this to zoom in vertically   ###\n",
    "ax.set_ylim((3584175.875, 4288198.0))  # Change this to zoom in horizontally ###\n",
    "\n",
    "ax.coastlines('10m', linewidth=2)\n",
    "ax.imshow(dust_RGB, origin='upper', extent=imgExtent, transform=crs)\n",
    "\n",
    "ax.add_feature(cfeature.COASTLINE)\n",
    "ax.add_feature(cfeature.BORDERS)\n",
    "ax.add_feature(cfeature.STATES)\n",
    "\n",
    "plt.title(plot_title, size=8)\n",
    "\n",
    "plt.show()\n",
    "\n",
    "saved_file_name=file_name+'.png'\n",
    "fig.savefig(saved_file_name, facecolor='w', dpi=300, bbox_inches='tight')"
   ]
  },
  {
   "cell_type": "code",
   "execution_count": null,
   "id": "e288917c",
   "metadata": {},
   "outputs": [],
   "source": [
    "# How to make a gif image using the png you have just created"
   ]
  },
  {
   "cell_type": "code",
   "execution_count": null,
   "id": "f04f00a2-d0a0-476f-a5b4-27273b252786",
   "metadata": {},
   "outputs": [],
   "source": [
    "pip install pillow"
   ]
  },
  {
   "cell_type": "code",
   "execution_count": null,
   "id": "6779ee53-814f-4ec5-9a35-e9608394c1ae",
   "metadata": {},
   "outputs": [],
   "source": [
    "# Insert your files wherever there is .png\n",
    "# I may have given you to many frames (You can # out the extras)\n",
    "\n",
    "from PIL import Image\n",
    "\n",
    "frames = []\n",
    "\n",
    "frames.append(Image.open(\"\"))\n",
    "frames.append(Image.open(\"\"))\n",
    "frames.append(Image.open(\"\"))\n",
    "frames.append(Image.open(\"\"))\n",
    "frames.append(Image.open(\"\"))\n",
    "frames.append(Image.open(\"\"))\n",
    "frames.append(Image.open(\"\"))\n",
    "frames.append(Image.open(\"\"))\n",
    "frames.append(Image.open(\"\"))\n",
    "frames.append(Image.open(\"\"))\n",
    "frames.append(Image.open(\"OR_ABI-L2-MCMIPC-M6_G16_s20213492051172_e20213492053545_c20213492054050.nc.png\"))\n",
    "frames.append(Image.open(\"OR_ABI-L2-MCMIPC-M6_G16_s20213492056172_e20213492058545_c20213492059037.nc.png\"))\n",
    "#frames.append(Image.open(\".png\"))\n",
    "#frames.append(Image.open(\".png\"))\n",
    "#frames.append(Image.open(\".png\"))\n",
    "#frames.append(Image.open(\".png\"))\n",
    "#frames.append(Image.open(\".png\"))\n",
    "#frames.append(Image.open(\".png\"))\n",
    "#frames.append(Image.open(\".png\"))\n",
    "#frames.append(Image.open(\".png\"))\n",
    "#frames.append(Image.open(\".png\"))\n",
    "#frames.append(Image.open(\".png\"))\n",
    "#frames.append(Image.open(\".png\"))\n",
    "#frames.append(Image.open(\".png\"))\n",
    "\n",
    "frames[0].save(\"December 15, 2021 Dust_Storm.gif\", save_all=True, append_images=frames[1:], optimize=False, duration=200, loop=0)  ### Change this to the proper dust storm name"
   ]
  },
  {
   "cell_type": "code",
   "execution_count": null,
   "id": "042c5bfb-51cf-4a0c-98d4-288e772334c8",
   "metadata": {},
   "outputs": [],
   "source": [
    "# Congrats your gif should have been made"
   ]
  },
  {
   "cell_type": "code",
   "execution_count": null,
   "id": "d4826a6b-5b66-42df-93ee-9607115d5d7e",
   "metadata": {},
   "outputs": [],
   "source": []
  },
  {
   "cell_type": "code",
   "execution_count": null,
   "id": "1ccaf413-fb21-4606-9e1f-41518a0ce068",
   "metadata": {},
   "outputs": [],
   "source": []
  }
 ],
 "metadata": {
  "kernelspec": {
   "display_name": "AMS 2023",
   "language": "python",
   "name": "ams2023"
  },
  "language_info": {
   "codemirror_mode": {
    "name": "ipython",
    "version": 3
   },
   "file_extension": ".py",
   "mimetype": "text/x-python",
   "name": "python",
   "nbconvert_exporter": "python",
   "pygments_lexer": "ipython3",
   "version": "3.9.16"
  },
  "varInspector": {
   "cols": {
    "lenName": 16,
    "lenType": 16,
    "lenVar": 40
   },
   "kernels_config": {
    "python": {
     "delete_cmd_postfix": "",
     "delete_cmd_prefix": "del ",
     "library": "var_list.py",
     "varRefreshCmd": "print(var_dic_list())"
    },
    "r": {
     "delete_cmd_postfix": ") ",
     "delete_cmd_prefix": "rm(",
     "library": "var_list.r",
     "varRefreshCmd": "cat(var_dic_list()) "
    }
   },
   "types_to_exclude": [
    "module",
    "function",
    "builtin_function_or_method",
    "instance",
    "_Feature"
   ],
   "window_display": false
  },
  "vscode": {
   "interpreter": {
    "hash": "4589143d4cda0c8671911bd60c16dc1d10ec327722e7574bc882b745b51509b4"
   }
  }
 },
 "nbformat": 4,
 "nbformat_minor": 5
}
